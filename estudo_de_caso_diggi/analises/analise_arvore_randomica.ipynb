{
 "cells": [
  {
   "cell_type": "code",
   "execution_count": null,
   "id": "british-peninsula",
   "metadata": {},
   "outputs": [],
   "source": [
    "import pandas as pd\n",
    "import numpy as np\n",
    "%pylab inline"
   ]
  },
  {
   "cell_type": "code",
   "execution_count": null,
   "id": "sublime-feature",
   "metadata": {},
   "outputs": [],
   "source": [
    "data = pd.read_csv(\"G:\\\\GitHub\\\\diggi-teste\\\\estudo_de_caso_diggi\\\\dados\\\\base_teste_ok.csv\", sep=';', encoding=\"utf_8\")"
   ]
  },
  {
   "cell_type": "code",
   "execution_count": null,
   "id": "liked-usage",
   "metadata": {},
   "outputs": [],
   "source": [
    "data.head()"
   ]
  },
  {
   "cell_type": "code",
   "execution_count": null,
   "id": "familiar-hazard",
   "metadata": {},
   "outputs": [],
   "source": [
    "arr_cols_flag = ['30D3M','60D6M','60D9M','90D9M','90D12M']\n",
    "\n",
    "for f in arr_cols_flag:\n",
    "    col_flag = []\n",
    "    for i in data['Performance ' + f + ' EVER'].iteritems():\n",
    "        valor = (i[1])\n",
    "        if valor == 'BOM':\n",
    "            col_flag.append(1)\n",
    "        elif valor == 'MAU':\n",
    "            col_flag.append(0)\n",
    "        else:\n",
    "            col_flag.append(None)\n",
    "\n",
    "    data[f] = col_flag"
   ]
  },
  {
   "cell_type": "code",
   "execution_count": null,
   "id": "bizarre-reason",
   "metadata": {},
   "outputs": [],
   "source": [
    "data.describe()"
   ]
  },
  {
   "cell_type": "code",
   "execution_count": null,
   "id": "logical-expansion",
   "metadata": {},
   "outputs": [],
   "source": [
    "from sklearn.ensemble import RandomForestRegressor\n",
    "from sklearn.model_selection import train_test_split\n",
    "from sklearn.metrics import mean_squared_error"
   ]
  },
  {
   "cell_type": "code",
   "execution_count": null,
   "id": "phantom-exercise",
   "metadata": {},
   "outputs": [],
   "source": [
    "X = data.drop(\"median_house_value\", axis=1)\n",
    "y = data['median_house_value']\n",
    "\n",
    "Xtr, Xval, ytr, yval = train_test_split(X, y, test_size=0.5, random_state=0)\n",
    "\n",
    "arveres = RandomForestRegressor(n_estimators=300, min_samples_leaf=1, random_state=0, n_jobs=-1) \n",
    "arveres.fit(Xtr, ytr)\n",
    "\n",
    "p = arveres.predict(Xval)\n",
    "\n",
    "np.sqrt(mean_squared_error(yval, p))"
   ]
  },
  {
   "cell_type": "markdown",
   "id": "vietnamese-hurricane",
   "metadata": {},
   "source": [
    "62k  \n",
    " \n",
    "default -> 50822.200850256515 \n",
    "n_estimators=200 -> 50633.64512666656 \n",
    "n_estimators=300, msl=1 -> 50616.12238341953 \n",
    "n_estimators=300, msl=2 -> 50653.35917991981 \n",
    " \n",
    "n_estimators=50, msl=1 -> 51270.80612315185 \n",
    "n_estimators=50, msl=2 -> 51318.7112874631 \n",
    " \n",
    "n_estimators=10, msl=1 -> 53513.61429324714 \n",
    "n_estimators=10, msl=2 -> 53136.269165482554 "
   ]
  },
  {
   "cell_type": "markdown",
   "id": "organic-teens",
   "metadata": {},
   "source": [
    "1 arvore -> p1 \n",
    "1 arvore -> p2 \n",
    " \n",
    "(p1 + p2) / 2 \n",
    " \n",
    "features \n",
    "linhas/exemplos \n",
    " \n",
    "1000 \n",
    "amostra com reposição - bootstrap sampling - bagging  \n",
    " \n",
    "bagging \n",
    "1 arvore - amostra1 -> p1 \n",
    "1 arvore - amostra2 -> p2 \n",
    " \n",
    "subspace sampling \n",
    " \n",
    "10  \n",
    " \n",
    "1 arvore - amostra1 - 2 features -> p1 \n",
    "1 arvore - amostra2 - 2 features -> p2 "
   ]
  }
 ],
 "metadata": {
  "kernelspec": {
   "display_name": "Python 3",
   "language": "python",
   "name": "python3"
  },
  "language_info": {
   "codemirror_mode": {
    "name": "ipython",
    "version": 3
   },
   "file_extension": ".py",
   "mimetype": "text/x-python",
   "name": "python",
   "nbconvert_exporter": "python",
   "pygments_lexer": "ipython3",
   "version": "3.9.0"
  }
 },
 "nbformat": 4,
 "nbformat_minor": 5
}
