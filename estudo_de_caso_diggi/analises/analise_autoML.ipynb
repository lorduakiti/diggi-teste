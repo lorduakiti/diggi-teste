{
 "cells": [
  {
   "cell_type": "markdown",
   "id": "adjacent-looking",
   "metadata": {},
   "source": [
    "### Coletando os Dados"
   ]
  },
  {
   "cell_type": "code",
   "execution_count": 4,
   "id": "comfortable-fence",
   "metadata": {},
   "outputs": [],
   "source": [
    "import pandas as pd\n",
    "import numpy as np\n",
    "%matplotlib inline"
   ]
  },
  {
   "cell_type": "code",
   "execution_count": 5,
   "id": "accessory-symphony",
   "metadata": {},
   "outputs": [],
   "source": [
    "data = pd.read_csv(\"G:\\\\GitHub\\\\diggi-teste\\\\estudo_de_caso_diggi\\\\dados\\\\base_teste_ok.csv\", sep=';', encoding=\"utf_8\")"
   ]
  },
  {
   "cell_type": "code",
   "execution_count": 6,
   "id": "piano-script",
   "metadata": {},
   "outputs": [
    {
     "data": {
      "text/html": [
       "<div>\n",
       "<style scoped>\n",
       "    .dataframe tbody tr th:only-of-type {\n",
       "        vertical-align: middle;\n",
       "    }\n",
       "\n",
       "    .dataframe tbody tr th {\n",
       "        vertical-align: top;\n",
       "    }\n",
       "\n",
       "    .dataframe thead th {\n",
       "        text-align: right;\n",
       "    }\n",
       "</style>\n",
       "<table border=\"1\" class=\"dataframe\">\n",
       "  <thead>\n",
       "    <tr style=\"text-align: right;\">\n",
       "      <th></th>\n",
       "      <th>Nº do cliente</th>\n",
       "      <th>Safra</th>\n",
       "      <th>Estado</th>\n",
       "      <th>Renda Mensal</th>\n",
       "      <th>Endividamento</th>\n",
       "      <th>Quantidade de Cheques sem Fundo</th>\n",
       "      <th>Quantidade de Restritivos</th>\n",
       "      <th>Valor dos Restritivos</th>\n",
       "      <th>Quantidade de Protestos</th>\n",
       "      <th>Valor dos Protestos</th>\n",
       "      <th>Modelo Score 1</th>\n",
       "      <th>Modelo Score 2</th>\n",
       "      <th>Modelo Score 3</th>\n",
       "      <th>Modelo Score 4</th>\n",
       "      <th>Performance 30D3M EVER</th>\n",
       "      <th>Performance 60D6M EVER</th>\n",
       "      <th>Performance 60D9M EVER</th>\n",
       "      <th>Performance 90D9M EVER</th>\n",
       "      <th>Performance 90D12M EVER</th>\n",
       "    </tr>\n",
       "  </thead>\n",
       "  <tbody>\n",
       "    <tr>\n",
       "      <th>0</th>\n",
       "      <td>6.325851e+08</td>\n",
       "      <td>2020-05-01 00:00:00 UTC</td>\n",
       "      <td>MS</td>\n",
       "      <td>1076.0</td>\n",
       "      <td>26 a 50%</td>\n",
       "      <td>0.0</td>\n",
       "      <td>2.0</td>\n",
       "      <td>418.0</td>\n",
       "      <td>0.0</td>\n",
       "      <td>0.0</td>\n",
       "      <td>141.0</td>\n",
       "      <td>236.0</td>\n",
       "      <td>196.0</td>\n",
       "      <td>405.0</td>\n",
       "      <td>BOM</td>\n",
       "      <td>MAU</td>\n",
       "      <td>MAU</td>\n",
       "      <td>MAU</td>\n",
       "      <td>MAU</td>\n",
       "    </tr>\n",
       "    <tr>\n",
       "      <th>1</th>\n",
       "      <td>1.190978e+09</td>\n",
       "      <td>2020-05-01 00:00:00 UTC</td>\n",
       "      <td>MG</td>\n",
       "      <td>12709.0</td>\n",
       "      <td>Até 25%</td>\n",
       "      <td>0.0</td>\n",
       "      <td>0.0</td>\n",
       "      <td>0.0</td>\n",
       "      <td>0.0</td>\n",
       "      <td>0.0</td>\n",
       "      <td>767.0</td>\n",
       "      <td>646.0</td>\n",
       "      <td>805.0</td>\n",
       "      <td>946.0</td>\n",
       "      <td>BOM</td>\n",
       "      <td>BOM</td>\n",
       "      <td>BOM</td>\n",
       "      <td>BOM</td>\n",
       "      <td>BOM</td>\n",
       "    </tr>\n",
       "    <tr>\n",
       "      <th>2</th>\n",
       "      <td>1.089165e+09</td>\n",
       "      <td>2020-06-01 00:00:00 UTC</td>\n",
       "      <td>MS</td>\n",
       "      <td>2518.0</td>\n",
       "      <td>Acima de 100%</td>\n",
       "      <td>0.0</td>\n",
       "      <td>4.0</td>\n",
       "      <td>32306.0</td>\n",
       "      <td>0.0</td>\n",
       "      <td>0.0</td>\n",
       "      <td>67.0</td>\n",
       "      <td>238.0</td>\n",
       "      <td>196.0</td>\n",
       "      <td>563.0</td>\n",
       "      <td>BOM</td>\n",
       "      <td>BOM</td>\n",
       "      <td>BOM</td>\n",
       "      <td>BOM</td>\n",
       "      <td>BOM</td>\n",
       "    </tr>\n",
       "    <tr>\n",
       "      <th>3</th>\n",
       "      <td>1.342327e+08</td>\n",
       "      <td>2020-05-01 00:00:00 UTC</td>\n",
       "      <td>RS</td>\n",
       "      <td>1090.0</td>\n",
       "      <td>Até 25%</td>\n",
       "      <td>0.0</td>\n",
       "      <td>0.0</td>\n",
       "      <td>0.0</td>\n",
       "      <td>0.0</td>\n",
       "      <td>0.0</td>\n",
       "      <td>245.0</td>\n",
       "      <td>523.0</td>\n",
       "      <td>290.0</td>\n",
       "      <td>698.0</td>\n",
       "      <td>MAU</td>\n",
       "      <td>BOM</td>\n",
       "      <td>MAU</td>\n",
       "      <td>BOM</td>\n",
       "      <td>MAU</td>\n",
       "    </tr>\n",
       "    <tr>\n",
       "      <th>4</th>\n",
       "      <td>1.055186e+09</td>\n",
       "      <td>2020-10-01 00:00:00 UTC</td>\n",
       "      <td>RJ</td>\n",
       "      <td>1155.0</td>\n",
       "      <td>Até 25%</td>\n",
       "      <td>0.0</td>\n",
       "      <td>0.0</td>\n",
       "      <td>0.0</td>\n",
       "      <td>0.0</td>\n",
       "      <td>0.0</td>\n",
       "      <td>697.0</td>\n",
       "      <td>718.0</td>\n",
       "      <td>645.0</td>\n",
       "      <td>816.0</td>\n",
       "      <td>BOM</td>\n",
       "      <td>BOM</td>\n",
       "      <td>NaN</td>\n",
       "      <td>NaN</td>\n",
       "      <td>NaN</td>\n",
       "    </tr>\n",
       "  </tbody>\n",
       "</table>\n",
       "</div>"
      ],
      "text/plain": [
       "   Nº do cliente                    Safra Estado  Renda Mensal  Endividamento  \\\n",
       "0   6.325851e+08  2020-05-01 00:00:00 UTC     MS        1076.0       26 a 50%   \n",
       "1   1.190978e+09  2020-05-01 00:00:00 UTC     MG       12709.0        Até 25%   \n",
       "2   1.089165e+09  2020-06-01 00:00:00 UTC     MS        2518.0  Acima de 100%   \n",
       "3   1.342327e+08  2020-05-01 00:00:00 UTC     RS        1090.0        Até 25%   \n",
       "4   1.055186e+09  2020-10-01 00:00:00 UTC     RJ        1155.0        Até 25%   \n",
       "\n",
       "   Quantidade de Cheques sem Fundo  Quantidade de Restritivos  \\\n",
       "0                              0.0                        2.0   \n",
       "1                              0.0                        0.0   \n",
       "2                              0.0                        4.0   \n",
       "3                              0.0                        0.0   \n",
       "4                              0.0                        0.0   \n",
       "\n",
       "   Valor dos Restritivos  Quantidade de Protestos  Valor dos Protestos  \\\n",
       "0                  418.0                      0.0                  0.0   \n",
       "1                    0.0                      0.0                  0.0   \n",
       "2                32306.0                      0.0                  0.0   \n",
       "3                    0.0                      0.0                  0.0   \n",
       "4                    0.0                      0.0                  0.0   \n",
       "\n",
       "   Modelo Score 1  Modelo Score 2  Modelo Score 3  Modelo Score 4  \\\n",
       "0           141.0           236.0           196.0           405.0   \n",
       "1           767.0           646.0           805.0           946.0   \n",
       "2            67.0           238.0           196.0           563.0   \n",
       "3           245.0           523.0           290.0           698.0   \n",
       "4           697.0           718.0           645.0           816.0   \n",
       "\n",
       "  Performance 30D3M EVER Performance 60D6M EVER Performance 60D9M EVER  \\\n",
       "0                    BOM                    MAU                    MAU   \n",
       "1                    BOM                    BOM                    BOM   \n",
       "2                    BOM                    BOM                    BOM   \n",
       "3                    MAU                    BOM                    MAU   \n",
       "4                    BOM                    BOM                    NaN   \n",
       "\n",
       "  Performance 90D9M EVER Performance 90D12M EVER  \n",
       "0                    MAU                     MAU  \n",
       "1                    BOM                     BOM  \n",
       "2                    BOM                     BOM  \n",
       "3                    BOM                     MAU  \n",
       "4                    NaN                     NaN  "
      ]
     },
     "execution_count": 6,
     "metadata": {},
     "output_type": "execute_result"
    }
   ],
   "source": [
    "data.head()"
   ]
  },
  {
   "cell_type": "code",
   "execution_count": 7,
   "id": "aboriginal-gather",
   "metadata": {},
   "outputs": [],
   "source": [
    "arr_cols_flag = ['30D3M','60D6M','60D9M','90D9M','90D12M']\n",
    "\n",
    "for f in arr_cols_flag:\n",
    "    col_flag = []\n",
    "    for i in data['Performance ' + f + ' EVER'].iteritems():\n",
    "        valor = (i[1])\n",
    "        if valor == 'BOM':\n",
    "            col_flag.append(1)\n",
    "        elif valor == 'MAU':\n",
    "            col_flag.append(0)\n",
    "        else:\n",
    "            col_flag.append(None)\n",
    "\n",
    "    data[f] = col_flag"
   ]
  },
  {
   "cell_type": "code",
   "execution_count": 8,
   "id": "plain-resource",
   "metadata": {},
   "outputs": [],
   "source": [
    "flag_divida = []\n",
    "for i in data['Endividamento'].iteritems():\n",
    "  valor = (i[1])\n",
    "  if valor == 'Até 25%':\n",
    "    flag_divida.append(0.25)\n",
    "  elif valor == '26 a 50%':\n",
    "    flag_divida.append(0.5)\n",
    "  elif valor == '51 a 75%':\n",
    "    flag_divida.append(0.75)\n",
    "  elif valor == '76 a 100%':\n",
    "    flag_divida.append(1)\n",
    "  elif valor == 'Acima de 100%':\n",
    "    flag_divida.append(1.5)\n",
    "  else:\n",
    "    flag_divida.append(None)\n",
    "\n",
    "data['% Endividamento'] = flag_divida"
   ]
  },
  {
   "cell_type": "code",
   "execution_count": 9,
   "id": "immediate-transfer",
   "metadata": {},
   "outputs": [],
   "source": [
    "# Se o valor da renda mensal for menor ou igual a ??? este será baixo, senão se for menor que ??? será médio, senão será alto.\n",
    "categorias_renda_mensal = []\n",
    "# alimentando a lista categorias\n",
    "for i in data['Renda Mensal'].iteritems():\n",
    "  valor = (i[1])\n",
    "  if valor <= 2500:\n",
    "    categorias_renda_mensal.append('Baixo')\n",
    "  elif valor < 5000:\n",
    "    categorias_renda_mensal.append('Medio')\n",
    "  else:\n",
    "    categorias_renda_mensal.append('Alto')\n",
    "\n",
    "data['categorias_renda_mensal'] = categorias_renda_mensal"
   ]
  },
  {
   "cell_type": "code",
   "execution_count": 10,
   "id": "freelance-sunrise",
   "metadata": {},
   "outputs": [],
   "source": [
    "data['endividamento_bom'] = data['% Endividamento'].map(lambda x: 1 if x < 0.25 else 0)"
   ]
  },
  {
   "cell_type": "code",
   "execution_count": 11,
   "id": "fatty-crash",
   "metadata": {},
   "outputs": [
    {
     "data": {
      "text/html": [
       "<div>\n",
       "<style scoped>\n",
       "    .dataframe tbody tr th:only-of-type {\n",
       "        vertical-align: middle;\n",
       "    }\n",
       "\n",
       "    .dataframe tbody tr th {\n",
       "        vertical-align: top;\n",
       "    }\n",
       "\n",
       "    .dataframe thead th {\n",
       "        text-align: right;\n",
       "    }\n",
       "</style>\n",
       "<table border=\"1\" class=\"dataframe\">\n",
       "  <thead>\n",
       "    <tr style=\"text-align: right;\">\n",
       "      <th></th>\n",
       "      <th>Nº do cliente</th>\n",
       "      <th>Renda Mensal</th>\n",
       "      <th>Quantidade de Cheques sem Fundo</th>\n",
       "      <th>Quantidade de Restritivos</th>\n",
       "      <th>Valor dos Restritivos</th>\n",
       "      <th>Quantidade de Protestos</th>\n",
       "      <th>Valor dos Protestos</th>\n",
       "      <th>Modelo Score 1</th>\n",
       "      <th>Modelo Score 2</th>\n",
       "      <th>Modelo Score 3</th>\n",
       "      <th>Modelo Score 4</th>\n",
       "      <th>30D3M</th>\n",
       "      <th>60D6M</th>\n",
       "      <th>60D9M</th>\n",
       "      <th>90D9M</th>\n",
       "      <th>90D12M</th>\n",
       "      <th>% Endividamento</th>\n",
       "      <th>endividamento_bom</th>\n",
       "    </tr>\n",
       "  </thead>\n",
       "  <tbody>\n",
       "    <tr>\n",
       "      <th>count</th>\n",
       "      <td>1.000000e+04</td>\n",
       "      <td>10000.000000</td>\n",
       "      <td>10000.000000</td>\n",
       "      <td>10000.000000</td>\n",
       "      <td>10000.00000</td>\n",
       "      <td>10000.000000</td>\n",
       "      <td>10000.000000</td>\n",
       "      <td>10000.000000</td>\n",
       "      <td>10000.000000</td>\n",
       "      <td>10000.000000</td>\n",
       "      <td>10000.000000</td>\n",
       "      <td>10000.000000</td>\n",
       "      <td>10000.000000</td>\n",
       "      <td>8335.000000</td>\n",
       "      <td>8335.000000</td>\n",
       "      <td>3995.000000</td>\n",
       "      <td>10000.000000</td>\n",
       "      <td>11994.0</td>\n",
       "    </tr>\n",
       "    <tr>\n",
       "      <th>mean</th>\n",
       "      <td>6.101154e+08</td>\n",
       "      <td>2780.155700</td>\n",
       "      <td>0.164900</td>\n",
       "      <td>0.711100</td>\n",
       "      <td>1635.66340</td>\n",
       "      <td>0.152900</td>\n",
       "      <td>209.724300</td>\n",
       "      <td>459.182800</td>\n",
       "      <td>524.183800</td>\n",
       "      <td>483.280100</td>\n",
       "      <td>695.888500</td>\n",
       "      <td>0.875600</td>\n",
       "      <td>0.829000</td>\n",
       "      <td>0.766647</td>\n",
       "      <td>0.812238</td>\n",
       "      <td>0.766458</td>\n",
       "      <td>0.445825</td>\n",
       "      <td>0.0</td>\n",
       "    </tr>\n",
       "    <tr>\n",
       "      <th>std</th>\n",
       "      <td>3.515864e+08</td>\n",
       "      <td>1464.592111</td>\n",
       "      <td>1.564146</td>\n",
       "      <td>1.823285</td>\n",
       "      <td>10741.23154</td>\n",
       "      <td>1.173908</td>\n",
       "      <td>2700.805532</td>\n",
       "      <td>264.013507</td>\n",
       "      <td>200.494433</td>\n",
       "      <td>215.561897</td>\n",
       "      <td>115.237171</td>\n",
       "      <td>0.330054</td>\n",
       "      <td>0.376528</td>\n",
       "      <td>0.422991</td>\n",
       "      <td>0.390546</td>\n",
       "      <td>0.423137</td>\n",
       "      <td>0.422184</td>\n",
       "      <td>0.0</td>\n",
       "    </tr>\n",
       "    <tr>\n",
       "      <th>min</th>\n",
       "      <td>1.241258e+06</td>\n",
       "      <td>1041.000000</td>\n",
       "      <td>0.000000</td>\n",
       "      <td>-7.000000</td>\n",
       "      <td>0.00000</td>\n",
       "      <td>0.000000</td>\n",
       "      <td>0.000000</td>\n",
       "      <td>1.000000</td>\n",
       "      <td>1.000000</td>\n",
       "      <td>1.000000</td>\n",
       "      <td>1.000000</td>\n",
       "      <td>0.000000</td>\n",
       "      <td>0.000000</td>\n",
       "      <td>0.000000</td>\n",
       "      <td>0.000000</td>\n",
       "      <td>0.000000</td>\n",
       "      <td>0.250000</td>\n",
       "      <td>0.0</td>\n",
       "    </tr>\n",
       "    <tr>\n",
       "      <th>25%</th>\n",
       "      <td>3.056783e+08</td>\n",
       "      <td>1404.000000</td>\n",
       "      <td>0.000000</td>\n",
       "      <td>0.000000</td>\n",
       "      <td>0.00000</td>\n",
       "      <td>0.000000</td>\n",
       "      <td>0.000000</td>\n",
       "      <td>216.000000</td>\n",
       "      <td>253.000000</td>\n",
       "      <td>277.000000</td>\n",
       "      <td>630.000000</td>\n",
       "      <td>1.000000</td>\n",
       "      <td>1.000000</td>\n",
       "      <td>1.000000</td>\n",
       "      <td>1.000000</td>\n",
       "      <td>1.000000</td>\n",
       "      <td>0.250000</td>\n",
       "      <td>0.0</td>\n",
       "    </tr>\n",
       "    <tr>\n",
       "      <th>50%</th>\n",
       "      <td>6.101154e+08</td>\n",
       "      <td>3365.000000</td>\n",
       "      <td>0.000000</td>\n",
       "      <td>0.000000</td>\n",
       "      <td>0.00000</td>\n",
       "      <td>0.000000</td>\n",
       "      <td>0.000000</td>\n",
       "      <td>481.000000</td>\n",
       "      <td>627.000000</td>\n",
       "      <td>482.000000</td>\n",
       "      <td>700.000000</td>\n",
       "      <td>1.000000</td>\n",
       "      <td>1.000000</td>\n",
       "      <td>1.000000</td>\n",
       "      <td>1.000000</td>\n",
       "      <td>1.000000</td>\n",
       "      <td>0.250000</td>\n",
       "      <td>0.0</td>\n",
       "    </tr>\n",
       "    <tr>\n",
       "      <th>75%</th>\n",
       "      <td>9.145524e+08</td>\n",
       "      <td>3492.000000</td>\n",
       "      <td>0.000000</td>\n",
       "      <td>1.000000</td>\n",
       "      <td>145.00000</td>\n",
       "      <td>0.000000</td>\n",
       "      <td>0.000000</td>\n",
       "      <td>672.250000</td>\n",
       "      <td>669.000000</td>\n",
       "      <td>669.000000</td>\n",
       "      <td>772.000000</td>\n",
       "      <td>1.000000</td>\n",
       "      <td>1.000000</td>\n",
       "      <td>1.000000</td>\n",
       "      <td>1.000000</td>\n",
       "      <td>1.000000</td>\n",
       "      <td>0.250000</td>\n",
       "      <td>0.0</td>\n",
       "    </tr>\n",
       "    <tr>\n",
       "      <th>max</th>\n",
       "      <td>1.218989e+09</td>\n",
       "      <td>33564.000000</td>\n",
       "      <td>64.000000</td>\n",
       "      <td>35.000000</td>\n",
       "      <td>462266.00000</td>\n",
       "      <td>37.000000</td>\n",
       "      <td>133742.000000</td>\n",
       "      <td>999.000000</td>\n",
       "      <td>811.000000</td>\n",
       "      <td>922.000000</td>\n",
       "      <td>999.000000</td>\n",
       "      <td>1.000000</td>\n",
       "      <td>1.000000</td>\n",
       "      <td>1.000000</td>\n",
       "      <td>1.000000</td>\n",
       "      <td>1.000000</td>\n",
       "      <td>1.500000</td>\n",
       "      <td>0.0</td>\n",
       "    </tr>\n",
       "  </tbody>\n",
       "</table>\n",
       "</div>"
      ],
      "text/plain": [
       "       Nº do cliente  Renda Mensal  Quantidade de Cheques sem Fundo  \\\n",
       "count   1.000000e+04  10000.000000                     10000.000000   \n",
       "mean    6.101154e+08   2780.155700                         0.164900   \n",
       "std     3.515864e+08   1464.592111                         1.564146   \n",
       "min     1.241258e+06   1041.000000                         0.000000   \n",
       "25%     3.056783e+08   1404.000000                         0.000000   \n",
       "50%     6.101154e+08   3365.000000                         0.000000   \n",
       "75%     9.145524e+08   3492.000000                         0.000000   \n",
       "max     1.218989e+09  33564.000000                        64.000000   \n",
       "\n",
       "       Quantidade de Restritivos  Valor dos Restritivos  \\\n",
       "count               10000.000000            10000.00000   \n",
       "mean                    0.711100             1635.66340   \n",
       "std                     1.823285            10741.23154   \n",
       "min                    -7.000000                0.00000   \n",
       "25%                     0.000000                0.00000   \n",
       "50%                     0.000000                0.00000   \n",
       "75%                     1.000000              145.00000   \n",
       "max                    35.000000           462266.00000   \n",
       "\n",
       "       Quantidade de Protestos  Valor dos Protestos  Modelo Score 1  \\\n",
       "count             10000.000000         10000.000000    10000.000000   \n",
       "mean                  0.152900           209.724300      459.182800   \n",
       "std                   1.173908          2700.805532      264.013507   \n",
       "min                   0.000000             0.000000        1.000000   \n",
       "25%                   0.000000             0.000000      216.000000   \n",
       "50%                   0.000000             0.000000      481.000000   \n",
       "75%                   0.000000             0.000000      672.250000   \n",
       "max                  37.000000        133742.000000      999.000000   \n",
       "\n",
       "       Modelo Score 2  Modelo Score 3  Modelo Score 4         30D3M  \\\n",
       "count    10000.000000    10000.000000    10000.000000  10000.000000   \n",
       "mean       524.183800      483.280100      695.888500      0.875600   \n",
       "std        200.494433      215.561897      115.237171      0.330054   \n",
       "min          1.000000        1.000000        1.000000      0.000000   \n",
       "25%        253.000000      277.000000      630.000000      1.000000   \n",
       "50%        627.000000      482.000000      700.000000      1.000000   \n",
       "75%        669.000000      669.000000      772.000000      1.000000   \n",
       "max        811.000000      922.000000      999.000000      1.000000   \n",
       "\n",
       "              60D6M        60D9M        90D9M       90D12M  % Endividamento  \\\n",
       "count  10000.000000  8335.000000  8335.000000  3995.000000     10000.000000   \n",
       "mean       0.829000     0.766647     0.812238     0.766458         0.445825   \n",
       "std        0.376528     0.422991     0.390546     0.423137         0.422184   \n",
       "min        0.000000     0.000000     0.000000     0.000000         0.250000   \n",
       "25%        1.000000     1.000000     1.000000     1.000000         0.250000   \n",
       "50%        1.000000     1.000000     1.000000     1.000000         0.250000   \n",
       "75%        1.000000     1.000000     1.000000     1.000000         0.250000   \n",
       "max        1.000000     1.000000     1.000000     1.000000         1.500000   \n",
       "\n",
       "       endividamento_bom  \n",
       "count            11994.0  \n",
       "mean                 0.0  \n",
       "std                  0.0  \n",
       "min                  0.0  \n",
       "25%                  0.0  \n",
       "50%                  0.0  \n",
       "75%                  0.0  \n",
       "max                  0.0  "
      ]
     },
     "execution_count": 11,
     "metadata": {},
     "output_type": "execute_result"
    }
   ],
   "source": [
    "data.describe()"
   ]
  },
  {
   "cell_type": "code",
   "execution_count": 12,
   "id": "delayed-participation",
   "metadata": {},
   "outputs": [],
   "source": [
    "data = data[0:10000]"
   ]
  },
  {
   "cell_type": "markdown",
   "id": "inside-antenna",
   "metadata": {},
   "source": [
    "### Instalando o PyCaret\n",
    "Por padrão, o PyCaret não faz parte do conjunto de bibliotecas pré-instaladas do Google Colab. Por isso, é importante que sempre que formos trabalhar com ele por aqui, façamos a instalação da lib."
   ]
  },
  {
   "cell_type": "code",
   "execution_count": null,
   "id": "complex-generation",
   "metadata": {},
   "outputs": [],
   "source": [
    "# instalando a biblioteca\n",
    "#!pip install pycaret -q"
   ]
  },
  {
   "cell_type": "markdown",
   "id": "formal-constant",
   "metadata": {},
   "source": [
    "Além disso, precisamos ativar o modo do Colab. Assim, conseguiremos utilizar as biblioteca aqui no Colab."
   ]
  },
  {
   "cell_type": "code",
   "execution_count": null,
   "id": "demonstrated-guyana",
   "metadata": {},
   "outputs": [],
   "source": [
    "# configurando para o Colab\n",
    "#from pycaret.utils import enable_colab \n",
    "#enable_colab()"
   ]
  },
  {
   "cell_type": "markdown",
   "id": "commercial-harvest",
   "metadata": {},
   "source": [
    "### Verificando os Dados\n",
    "O PyCaret possui data sets e uma forma própria de carregar esses dados. Para esse projeto, vamos utilizar dados referentes a risco de crédito, ou seja, a chance de alguém entrar em dívidas com a entidade financeira."
   ]
  },
  {
   "cell_type": "code",
   "execution_count": 13,
   "id": "intensive-regular",
   "metadata": {},
   "outputs": [
    {
     "data": {
      "text/plain": [
       "(10000, 27)"
      ]
     },
     "execution_count": 13,
     "metadata": {},
     "output_type": "execute_result"
    }
   ],
   "source": [
    "# verificando o formato dos conjunto\n",
    "data.shape"
   ]
  },
  {
   "cell_type": "markdown",
   "id": "hundred-costume",
   "metadata": {},
   "source": [
    "Lembre-se que os dados de teste não podem ser usados para treinar o modelo. Quando estivermos com nosso modelo pronto, aí sim, usaremos o modelo de teste para fazer previsões.\n",
    "\n",
    "Por isso, já iremos realizar o split."
   ]
  },
  {
   "cell_type": "code",
   "execution_count": 14,
   "id": "white-scratch",
   "metadata": {},
   "outputs": [],
   "source": [
    "# separando os dados em teste e treino\n",
    "test = data.sample(frac=0.10)\n",
    "train = data.drop(test.index)\n",
    "\n",
    "test.reset_index(inplace=True, drop=True)\n",
    "train.reset_index(inplace=True, drop=True)"
   ]
  },
  {
   "cell_type": "code",
   "execution_count": 15,
   "id": "treated-lotus",
   "metadata": {},
   "outputs": [
    {
     "name": "stdout",
     "output_type": "stream",
     "text": [
      "(9000, 27)\n",
      "(1000, 27)\n"
     ]
    }
   ],
   "source": [
    "# verificando o formato dos conjuntos\n",
    "print(train.shape)\n",
    "print(test.shape)"
   ]
  },
  {
   "cell_type": "markdown",
   "id": "expressed-tuning",
   "metadata": {},
   "source": [
    "### Configurando o ambiente no PyCaret\n",
    "Seguindo as boas práticas para desenvolvimento, vamos importar somente os módulos que vamos precisar, ao invés de importar a biblioteca inteira para utilizar meia dúzia de módulos."
   ]
  },
  {
   "cell_type": "code",
   "execution_count": 16,
   "id": "significant-crawford",
   "metadata": {},
   "outputs": [],
   "source": [
    "# importando os pacotes necessários\n",
    "from pycaret.classification import setup, compare_models, models, create_model, predict_model\n",
    "from pycaret.classification import tune_model, plot_model, evaluate_model, finalize_model\n",
    "from pycaret.classification import save_model, load_model"
   ]
  },
  {
   "cell_type": "markdown",
   "id": "worthy-library",
   "metadata": {},
   "source": [
    "Agora, vamos passar os nossos dados para o PyCaret, para começarmos a explorar os dados e preparar nosso modelo.\n",
    "\n",
    "Aqui, vamos criar um classificador (clf), e vamos passar os dados, e a variável alvo."
   ]
  },
  {
   "cell_type": "code",
   "execution_count": null,
   "id": "cooperative-apache",
   "metadata": {},
   "outputs": [
    {
     "data": {
      "application/vnd.jupyter.widget-view+json": {
       "model_id": "865d9862ea174727a7cadcb1c0997864",
       "version_major": 2,
       "version_minor": 0
      },
      "text/plain": [
       "IntProgress(value=0, description='Processing: ', max=13)"
      ]
     },
     "metadata": {},
     "output_type": "display_data"
    },
    {
     "data": {
      "text/html": [
       "<div>\n",
       "<style scoped>\n",
       "    .dataframe tbody tr th:only-of-type {\n",
       "        vertical-align: middle;\n",
       "    }\n",
       "\n",
       "    .dataframe tbody tr th {\n",
       "        vertical-align: top;\n",
       "    }\n",
       "\n",
       "    .dataframe thead th {\n",
       "        text-align: right;\n",
       "    }\n",
       "</style>\n",
       "<table border=\"1\" class=\"dataframe\">\n",
       "  <thead>\n",
       "    <tr style=\"text-align: right;\">\n",
       "      <th></th>\n",
       "      <th></th>\n",
       "      <th></th>\n",
       "    </tr>\n",
       "    <tr>\n",
       "      <th></th>\n",
       "      <th></th>\n",
       "      <th></th>\n",
       "    </tr>\n",
       "  </thead>\n",
       "  <tbody>\n",
       "    <tr>\n",
       "      <th>Initiated</th>\n",
       "      <td>. . . . . . . . . . . . . . . . . .</td>\n",
       "      <td>21:08:38</td>\n",
       "    </tr>\n",
       "    <tr>\n",
       "      <th>Status</th>\n",
       "      <td>. . . . . . . . . . . . . . . . . .</td>\n",
       "      <td>Preparing Data for Modeling</td>\n",
       "    </tr>\n",
       "    <tr>\n",
       "      <th>ETC</th>\n",
       "      <td>. . . . . . . . . . . . . . . . . .</td>\n",
       "      <td>Calculating ETC</td>\n",
       "    </tr>\n",
       "  </tbody>\n",
       "</table>\n",
       "</div>"
      ],
      "text/plain": [
       "                                                                           \n",
       "                                                                           \n",
       "Initiated  . . . . . . . . . . . . . . . . . .                     21:08:38\n",
       "Status     . . . . . . . . . . . . . . . . . .  Preparing Data for Modeling\n",
       "ETC        . . . . . . . . . . . . . . . . . .              Calculating ETC"
      ]
     },
     "metadata": {},
     "output_type": "display_data"
    },
    {
     "data": {
      "text/html": [
       "        <script type=\"text/javascript\">\n",
       "        window.PlotlyConfig = {MathJaxConfig: 'local'};\n",
       "        if (window.MathJax) {MathJax.Hub.Config({SVG: {font: \"STIX-Web\"}});}\n",
       "        if (typeof require !== 'undefined') {\n",
       "        require.undef(\"plotly\");\n",
       "        requirejs.config({\n",
       "            paths: {\n",
       "                'plotly': ['https://cdn.plot.ly/plotly-latest.min']\n",
       "            }\n",
       "        });\n",
       "        require(['plotly'], function(Plotly) {\n",
       "            window._Plotly = Plotly;\n",
       "        });\n",
       "        }\n",
       "        </script>\n",
       "        "
      ]
     },
     "metadata": {},
     "output_type": "display_data"
    },
    {
     "data": {
      "application/vnd.jupyter.widget-view+json": {
       "model_id": "bf256aa6cfc44f0cb067c2f4a96aea72",
       "version_major": 2,
       "version_minor": 0
      },
      "text/plain": [
       "Text(value=\"Following data types have been inferred automatically, if they are correct press enter to continue…"
      ]
     },
     "metadata": {},
     "output_type": "display_data"
    },
    {
     "data": {
      "text/html": [
       "<div>\n",
       "<style scoped>\n",
       "    .dataframe tbody tr th:only-of-type {\n",
       "        vertical-align: middle;\n",
       "    }\n",
       "\n",
       "    .dataframe tbody tr th {\n",
       "        vertical-align: top;\n",
       "    }\n",
       "\n",
       "    .dataframe thead th {\n",
       "        text-align: right;\n",
       "    }\n",
       "</style>\n",
       "<table border=\"1\" class=\"dataframe\">\n",
       "  <thead>\n",
       "    <tr style=\"text-align: right;\">\n",
       "      <th></th>\n",
       "      <th>Data Type</th>\n",
       "    </tr>\n",
       "  </thead>\n",
       "  <tbody>\n",
       "    <tr>\n",
       "      <th>Nº do cliente</th>\n",
       "      <td>Numeric</td>\n",
       "    </tr>\n",
       "    <tr>\n",
       "      <th>Safra</th>\n",
       "      <td></td>\n",
       "    </tr>\n",
       "    <tr>\n",
       "      <th>Estado</th>\n",
       "      <td>Categorical</td>\n",
       "    </tr>\n",
       "    <tr>\n",
       "      <th>Renda Mensal</th>\n",
       "      <td>Numeric</td>\n",
       "    </tr>\n",
       "    <tr>\n",
       "      <th>Endividamento</th>\n",
       "      <td>Categorical</td>\n",
       "    </tr>\n",
       "    <tr>\n",
       "      <th>Quantidade de Cheques sem Fundo</th>\n",
       "      <td>Numeric</td>\n",
       "    </tr>\n",
       "    <tr>\n",
       "      <th>Quantidade de Restritivos</th>\n",
       "      <td>Numeric</td>\n",
       "    </tr>\n",
       "    <tr>\n",
       "      <th>Valor dos Restritivos</th>\n",
       "      <td>Numeric</td>\n",
       "    </tr>\n",
       "    <tr>\n",
       "      <th>Quantidade de Protestos</th>\n",
       "      <td>Numeric</td>\n",
       "    </tr>\n",
       "    <tr>\n",
       "      <th>Valor dos Protestos</th>\n",
       "      <td>Numeric</td>\n",
       "    </tr>\n",
       "    <tr>\n",
       "      <th>Modelo Score 1</th>\n",
       "      <td>Numeric</td>\n",
       "    </tr>\n",
       "    <tr>\n",
       "      <th>Modelo Score 2</th>\n",
       "      <td>Numeric</td>\n",
       "    </tr>\n",
       "    <tr>\n",
       "      <th>Modelo Score 3</th>\n",
       "      <td>Numeric</td>\n",
       "    </tr>\n",
       "    <tr>\n",
       "      <th>Modelo Score 4</th>\n",
       "      <td>Numeric</td>\n",
       "    </tr>\n",
       "    <tr>\n",
       "      <th>Performance 30D3M EVER</th>\n",
       "      <td>Categorical</td>\n",
       "    </tr>\n",
       "    <tr>\n",
       "      <th>Performance 60D6M EVER</th>\n",
       "      <td>Categorical</td>\n",
       "    </tr>\n",
       "    <tr>\n",
       "      <th>Performance 60D9M EVER</th>\n",
       "      <td>Categorical</td>\n",
       "    </tr>\n",
       "    <tr>\n",
       "      <th>Performance 90D9M EVER</th>\n",
       "      <td>Categorical</td>\n",
       "    </tr>\n",
       "    <tr>\n",
       "      <th>Performance 90D12M EVER</th>\n",
       "      <td>Categorical</td>\n",
       "    </tr>\n",
       "    <tr>\n",
       "      <th>30D3M</th>\n",
       "      <td>Label</td>\n",
       "    </tr>\n",
       "    <tr>\n",
       "      <th>60D6M</th>\n",
       "      <td>Categorical</td>\n",
       "    </tr>\n",
       "    <tr>\n",
       "      <th>60D9M</th>\n",
       "      <td>Categorical</td>\n",
       "    </tr>\n",
       "    <tr>\n",
       "      <th>90D9M</th>\n",
       "      <td>Categorical</td>\n",
       "    </tr>\n",
       "    <tr>\n",
       "      <th>90D12M</th>\n",
       "      <td>Categorical</td>\n",
       "    </tr>\n",
       "    <tr>\n",
       "      <th>% Endividamento</th>\n",
       "      <td>Numeric</td>\n",
       "    </tr>\n",
       "    <tr>\n",
       "      <th>categorias_renda_mensal</th>\n",
       "      <td>Categorical</td>\n",
       "    </tr>\n",
       "    <tr>\n",
       "      <th>endividamento_bom</th>\n",
       "      <td>Categorical</td>\n",
       "    </tr>\n",
       "  </tbody>\n",
       "</table>\n",
       "</div>"
      ],
      "text/plain": [
       "                                   Data Type\n",
       "Nº do cliente                        Numeric\n",
       "Safra                                       \n",
       "Estado                           Categorical\n",
       "Renda Mensal                         Numeric\n",
       "Endividamento                    Categorical\n",
       "Quantidade de Cheques sem Fundo      Numeric\n",
       "Quantidade de Restritivos            Numeric\n",
       "Valor dos Restritivos                Numeric\n",
       "Quantidade de Protestos              Numeric\n",
       "Valor dos Protestos                  Numeric\n",
       "Modelo Score 1                       Numeric\n",
       "Modelo Score 2                       Numeric\n",
       "Modelo Score 3                       Numeric\n",
       "Modelo Score 4                       Numeric\n",
       "Performance 30D3M EVER           Categorical\n",
       "Performance 60D6M EVER           Categorical\n",
       "Performance 60D9M EVER           Categorical\n",
       "Performance 90D9M EVER           Categorical\n",
       "Performance 90D12M EVER          Categorical\n",
       "30D3M                                  Label\n",
       "60D6M                            Categorical\n",
       "60D9M                            Categorical\n",
       "90D9M                            Categorical\n",
       "90D12M                           Categorical\n",
       "% Endividamento                      Numeric\n",
       "categorias_renda_mensal          Categorical\n",
       "endividamento_bom                Categorical"
      ]
     },
     "metadata": {},
     "output_type": "display_data"
    }
   ],
   "source": [
    "# criando o setup do PyCaret\n",
    "clf = setup(data=train, target='30D3M')"
   ]
  },
  {
   "cell_type": "markdown",
   "id": "convinced-conviction",
   "metadata": {},
   "source": [
    "#### Criando um Pipeline\n",
    "Através do setup, é onde vamos passar cada etapa do nosso pipeline.\n",
    "\n",
    "Dessa forma, iremos facilitar nosso trabalho, além de já estarmos preparando esse pipeline para uso em deploy, por exemplo."
   ]
  },
  {
   "cell_type": "code",
   "execution_count": null,
   "id": "spread-attitude",
   "metadata": {},
   "outputs": [],
   "source": [
    "# criando o pipeline\n",
    "clf = setup(data = data,\n",
    "        target = '30D3M',\n",
    "        normalize = True,\n",
    "        transformation = True, \n",
    "        ignore_low_variance = True,\n",
    "        remove_multicollinearity = True, \n",
    "        multicollinearity_threshold = 0.95,\n",
    "        bin_numeric_features = ['Renda Mensal', 'Quantidade de Cheques sem Fundo', 'Quantidade de Restritivos', 'Valor dos Restritivos', 'Modelo Score 1', 'Modelo Score 2', 'Modelo Score 3', 'Modelo Score 4'],\n",
    "        group_features = [['Safra', 'Estado', '% Endividamento'],\n",
    "            ['categorias_renda_mensal', 'endividamento_bom'],\n",
    "            ['60D6M', '60D9M', '90D9M', '90D12M']],\n",
    "        log_experiment = True,\n",
    "        experiment_name = 'credit01')"
   ]
  },
  {
   "cell_type": "markdown",
   "id": "fluid-audit",
   "metadata": {},
   "source": [
    "#### Comparando os Modelos\n",
    "Aqui, vamos comparar diferentes modelos, para verificar a performance deles em nosso conjunto de dados, baseado na métrica de avaliação de nossa escolha.\n",
    "\n",
    "Aqui, vamos utilizar o Recall, pois vamos preferir aprovar crédito para um bom pagador, do que liberar crédito para um mau pagador."
   ]
  },
  {
   "cell_type": "code",
   "execution_count": null,
   "id": "pointed-ticket",
   "metadata": {},
   "outputs": [],
   "source": [
    "# best = compare_models()\n",
    "best = compare_models(sort='Recall')"
   ]
  },
  {
   "cell_type": "code",
   "execution_count": null,
   "id": "narrative-wheel",
   "metadata": {},
   "outputs": [],
   "source": [
    "# verificando o melhor modelo\n",
    "print(best)"
   ]
  },
  {
   "cell_type": "code",
   "execution_count": null,
   "id": "equal-nancy",
   "metadata": {},
   "outputs": [],
   "source": [
    "# verificando os modelos\n",
    "models()"
   ]
  },
  {
   "cell_type": "markdown",
   "id": "magnetic-worthy",
   "metadata": {},
   "source": [
    "#### Instanciando o Modelo\n",
    "Agora que vimos que Árvores de Decisão serão o melhor modelo para nosso problema, é hora de instanciar o modelo, e fazer o tuning de parâmetros, para que tenhamos o melhor resultado possível.\n",
    "\n",
    "Por padrão, o PyCaret já faz a divisão dentro do conjunto de treino em conjuntos de validação, para trabalhar com 10 folds de validação.\n",
    "\n",
    "Podemos ver isso abaixo:"
   ]
  },
  {
   "cell_type": "code",
   "execution_count": null,
   "id": "injured-interference",
   "metadata": {},
   "outputs": [],
   "source": [
    "# instanciando o modelo\n",
    "dt = create_model('dt')"
   ]
  },
  {
   "cell_type": "code",
   "execution_count": null,
   "id": "random-schedule",
   "metadata": {},
   "outputs": [],
   "source": [
    "# verificando os parâmetros\n",
    "print(dt)"
   ]
  },
  {
   "cell_type": "markdown",
   "id": "stuck-slope",
   "metadata": {},
   "source": [
    "#### Hyperparameter Tuning\n",
    "Utilizando o PyCaret também é extremamente fácil fazer a otimização dos parâmetros. Basta utilizar o método tune_model passando como parâmetro o modelo a ser otimizado e a métrica pela qual você quer otimizar. Aí basta rodar e receber os resultados."
   ]
  },
  {
   "cell_type": "code",
   "execution_count": null,
   "id": "beneficial-universal",
   "metadata": {},
   "outputs": [],
   "source": [
    "# tuning de parâmetros\n",
    "tuned_dt = tune_model(dt, optimize='Recall')"
   ]
  },
  {
   "cell_type": "code",
   "execution_count": null,
   "id": "opened-simpson",
   "metadata": {},
   "outputs": [],
   "source": [
    "# veriificando os parâmetros\n",
    "print(tuned_dt)"
   ]
  },
  {
   "cell_type": "markdown",
   "id": "underlying-sterling",
   "metadata": {},
   "source": [
    "### Plotar o Modelo\n",
    "Agora você já deve ter percebido que o PyCaret facilita cada parte do processo de Machine Learning, e a visualização dos resultados não poderia ser diferente.\n",
    "\n",
    "É muito prático plotar uma matriz de confusão dos resultados, por exemplo."
   ]
  },
  {
   "cell_type": "code",
   "execution_count": null,
   "id": "special-realtor",
   "metadata": {},
   "outputs": [],
   "source": [
    "# plotando matriz de confusão\n",
    "plot_model(tuned_dt, plot='confusion_matrix')"
   ]
  },
  {
   "cell_type": "markdown",
   "id": "alternative-heating",
   "metadata": {},
   "source": [
    "Outra visualização extremamente importante é a de feature_importances. Essa visualização basicamente nos mostra qual a importância de cada uma das variáveis para o resultado do modelo.\n",
    "\n",
    "Em outras palavras, estamos medindo o poder preditivo de cada variável."
   ]
  },
  {
   "cell_type": "code",
   "execution_count": null,
   "id": "controlled-technique",
   "metadata": {},
   "outputs": [],
   "source": [
    "# feature importances\n",
    "plot_model(tuned_dt, plot='feature')"
   ]
  },
  {
   "cell_type": "markdown",
   "id": "harmful-lightning",
   "metadata": {},
   "source": [
    "Aqui, também podemos utilizar essa visaulização interativa, que nos ajuda a entender melhor a performance de nosso modelo a partir de diferentes tipos de avaliação."
   ]
  },
  {
   "cell_type": "code",
   "execution_count": null,
   "id": "sufficient-particle",
   "metadata": {},
   "outputs": [],
   "source": [
    "# avaliando o modelo\n",
    "evaluate_model(tuned_dt)"
   ]
  },
  {
   "cell_type": "markdown",
   "id": "vocal-crisis",
   "metadata": {},
   "source": [
    "### Finalizar o Modelo\n",
    "\n",
    "Agora que já conseguimos instanciar, treinar e avaliar nosso modelo, é hora de fazer previsões no nosso conjunto de testes."
   ]
  },
  {
   "cell_type": "code",
   "execution_count": null,
   "id": "bibliographic-passion",
   "metadata": {},
   "outputs": [],
   "source": [
    "# fazendo previsões\n",
    "predict_model(tuned_dt)"
   ]
  },
  {
   "cell_type": "code",
   "execution_count": null,
   "id": "major-financing",
   "metadata": {},
   "outputs": [],
   "source": [
    "# finalizando o modelo\n",
    "final_dt = finalize_model(tuned_dt)"
   ]
  },
  {
   "cell_type": "code",
   "execution_count": null,
   "id": "prompt-antigua",
   "metadata": {},
   "outputs": [],
   "source": [
    "# verificando os parâmetros\n",
    "print(final_dt)"
   ]
  },
  {
   "cell_type": "code",
   "execution_count": null,
   "id": "alone-governor",
   "metadata": {},
   "outputs": [],
   "source": [
    "# fazendo previsões com conjunto de teste\n",
    "test_preds = predict_model(final_dt, data=test)"
   ]
  },
  {
   "cell_type": "code",
   "execution_count": null,
   "id": "arbitrary-solomon",
   "metadata": {},
   "outputs": [],
   "source": [
    "# importando pacote de avaliação\n",
    "from pycaret.utils import check_metric"
   ]
  },
  {
   "cell_type": "code",
   "execution_count": null,
   "id": "peaceful-haven",
   "metadata": {},
   "outputs": [],
   "source": [
    "# avaliando o resultado com dados de teste\n",
    "check_metric(test_preds.default, test_preds.Label.astype(int), 'Recall')"
   ]
  },
  {
   "cell_type": "markdown",
   "id": "aggressive-invention",
   "metadata": {},
   "source": [
    "### Salvando o Modelo\n",
    "Com nossa fase de experimentos finalizada, o PyCaret também facilita a nossa vida na hora do deploy, sendo bastante simples o processo de salvar o modelo para uso posterior.\n",
    "\n",
    "Para isso, vamos utilizar o método save_model, passando como parâmetro o modelo e o nome do arquivo a ser salvo."
   ]
  },
  {
   "cell_type": "code",
   "execution_count": null,
   "id": "linear-outdoors",
   "metadata": {},
   "outputs": [],
   "source": [
    "# salvando o modelo\n",
    "save_model(final_dt, \"decision_tree_model\")"
   ]
  },
  {
   "cell_type": "code",
   "execution_count": null,
   "id": "flexible-lighter",
   "metadata": {},
   "outputs": [],
   "source": [
    "### Carregando um Modelo\n",
    "Se salvar um modelo com PyCaret é simples, carregar o mesmo não poderia ser diferente.\n",
    "\n",
    "Para isso, vamos utilizar o método load_model, passando como parâmetro o nome do arquivo do modelo."
   ]
  },
  {
   "cell_type": "code",
   "execution_count": null,
   "id": "dated-parish",
   "metadata": {},
   "outputs": [],
   "source": [
    "# carregando o modelo\n",
    "saved_model_dt = load_model(\"decision_tree_model\")"
   ]
  },
  {
   "cell_type": "markdown",
   "id": "certified-preview",
   "metadata": {},
   "source": [
    "Com o modelo carregado, é fácil fazer novas previsões com ele, assim como fizemos ao finalizar nosso modelo."
   ]
  },
  {
   "cell_type": "code",
   "execution_count": null,
   "id": "miniature-heather",
   "metadata": {},
   "outputs": [],
   "source": [
    "# fazendo previsões\n",
    "new_preds = predict_model(saved_model_dt, data=test)"
   ]
  },
  {
   "cell_type": "code",
   "execution_count": null,
   "id": "defensive-frederick",
   "metadata": {},
   "outputs": [],
   "source": [
    "# verificando os resultados\n",
    "new_preds.head()"
   ]
  },
  {
   "cell_type": "code",
   "execution_count": null,
   "id": "suspended-camera",
   "metadata": {},
   "outputs": [],
   "source": [
    "# avaliando o modelo\n",
    "check_metric(test_preds.default, test_preds.Label.astype(int), 'Accuracy')"
   ]
  }
 ],
 "metadata": {
  "kernelspec": {
   "display_name": "Python 3",
   "language": "python",
   "name": "python3"
  },
  "language_info": {
   "codemirror_mode": {
    "name": "ipython",
    "version": 3
   },
   "file_extension": ".py",
   "mimetype": "text/x-python",
   "name": "python",
   "nbconvert_exporter": "python",
   "pygments_lexer": "ipython3",
   "version": "3.9.0"
  }
 },
 "nbformat": 4,
 "nbformat_minor": 5
}
